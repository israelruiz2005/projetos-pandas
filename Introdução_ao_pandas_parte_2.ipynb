{
  "nbformat": 4,
  "nbformat_minor": 0,
  "metadata": {
    "colab": {
      "name": "Introdução ao pandas parte 2.ipynb",
      "provenance": [],
      "authorship_tag": "ABX9TyPyZ8+yO7pDeSfKcaEkoRMw",
      "include_colab_link": true
    },
    "kernelspec": {
      "name": "python3",
      "display_name": "Python 3"
    }
  },
  "cells": [
    {
      "cell_type": "markdown",
      "metadata": {
        "id": "view-in-github",
        "colab_type": "text"
      },
      "source": [
        "<a href=\"https://colab.research.google.com/github/israelruiz2005/projetos_pandas/blob/main/Introdu%C3%A7%C3%A3o_ao_pandas_parte_2.ipynb\" target=\"_parent\"><img src=\"https://colab.research.google.com/assets/colab-badge.svg\" alt=\"Open In Colab\"/></a>"
      ]
    },
    {
      "cell_type": "markdown",
      "metadata": {
        "id": "syOAsLLyZULo"
      },
      "source": [
        "# Olhando melhor para os DataFrames\r\n",
        "\r\n",
        "![300px-Pandas_logo.svg.png](data:image/png;base64,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)\r\n",
        "\r\n",
        "\r\n",
        "Em programação de computadores, pandas é uma biblioteca de software criada para a linguagem Python, utilizada para manipulação e análise de dados. Em particular, oferece estruturas e operações para manipular tabelas numéricas e séries temporais. *fonte:[wikipedia](https://pt.wikipedia.org/wiki/Pandas_(software)#:~:text=Em%20programa%C3%A7%C3%A3o%20de%20computadores%2C%20pandas,tabelas%20num%C3%A9ricas%20e%20s%C3%A9ries%20temporais.)*\r\n",
        "\r\n",
        "Isso e um pouco mais você já viu no artigo anterior, agora vamos olhar mais de perto o DataFrames.\r\n",
        "\r\n"
      ]
    },
    {
      "cell_type": "markdown",
      "metadata": {
        "id": "fWoQ2nHmaI_x"
      },
      "source": [
        "# Recordar é viver! \r\n",
        "(isso é meio brega mas funciona)\r\n",
        "## Documentação\r\n",
        "\r\n",
        "A biblioteca possui uma vasta documentação que pode ser consultada no site oficial https://pandas.pydata.org/docs/.\r\n",
        "\r\n",
        "### Instalação\r\n",
        "\r\n",
        "\r\n",
        "Podemos instalar a biblioteca através do anaconda com o comando\r\n",
        "\r\n",
        "`conda install pandas`\r\n",
        "\r\n",
        "ou através do pip\r\n",
        "\r\n",
        "`pip install pandas`\r\n",
        "\r\n",
        "\r\n",
        "No google.colab já vem pronta para uso."
      ]
    },
    {
      "cell_type": "code",
      "metadata": {
        "id": "aQvM9OLZaA6S"
      },
      "source": [
        "# abaixo um exemplo de instalação silencionsa\r\n",
        "!pip install pandas -q"
      ],
      "execution_count": 1,
      "outputs": []
    },
    {
      "cell_type": "markdown",
      "metadata": {
        "id": "7jpq0b4Pc95L"
      },
      "source": [
        "# Importando a biblioteca\r\n",
        "\r\n",
        "Para usar o pandas você precisa importa-la"
      ]
    },
    {
      "cell_type": "code",
      "metadata": {
        "id": "UrJ6PTPodIPg"
      },
      "source": [
        "import pandas as pd"
      ],
      "execution_count": 4,
      "outputs": []
    },
    {
      "cell_type": "markdown",
      "metadata": {
        "id": "07nmfhmeai13"
      },
      "source": [
        "# Criação de DataFrames\r\n",
        "\r\n",
        "Verificamos anteriormente que a junção de linhas e colunas formam um DataFrames, que pode ser obtido importado-se de um arquivo no formato \"csv\".\r\n",
        "\r\n",
        "![table_dataframe.svg.png](data:image/png;base64,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)\r\n",
        "\r\n",
        "Porém esta não é a unica maneira de termos um DataFrames, podemos cria-lo manualmente de algumas maneiras, é o que veremos agora."
      ]
    },
    {
      "cell_type": "markdown",
      "metadata": {
        "id": "P9O1SeJLbv4_"
      },
      "source": [
        "## Partindo de um dicionário de dados\r\n",
        "\r\n",
        "Dicionário de dados são estruturas em Python constituidos de pares \"chave\" e \"valor\", podendo facilmente ser transformada em DataFrames.\r\n",
        "Abaixo criamos um dicionário simples para nosso exemplo."
      ]
    },
    {
      "cell_type": "code",
      "metadata": {
        "id": "HtPmGj__b6s3"
      },
      "source": [
        "# Exemplo de dicionário\r\n",
        "dados_Dic = {\r\n",
        "    'nome' : ['Israel', 'Ana Paula', 'Guilherme', 'Caroline', 'João Paulo', 'José Antonio'],\r\n",
        "    'idade' : [54, 38, 16, 16, 2, 2],\r\n",
        "    'cidade': ['Barretos', 'Salvador', 'São Paulo', 'São Paulo', 'Salvador', 'Salvador'],\r\n",
        "    'comprou': [True, True, True, True, False, False]\r\n",
        "}\r\n"
      ],
      "execution_count": 28,
      "outputs": []
    },
    {
      "cell_type": "code",
      "metadata": {
        "colab": {
          "base_uri": "https://localhost:8080/"
        },
        "id": "i6I45TC7Y-jk",
        "outputId": "f8a1eec8-59c0-4f7b-f638-fb3f5f95e695"
      },
      "source": [
        "# Verificando o tipo de dados\r\n",
        "type(dados_Dic)"
      ],
      "execution_count": 29,
      "outputs": [
        {
          "output_type": "execute_result",
          "data": {
            "text/plain": [
              "dict"
            ]
          },
          "metadata": {
            "tags": []
          },
          "execution_count": 29
        }
      ]
    },
    {
      "cell_type": "code",
      "metadata": {
        "id": "XgxSvC2ZeiRX"
      },
      "source": [
        "# Criando o DataFrame\r\n",
        "df_Dic = pd.DataFrame(dados_Dic)"
      ],
      "execution_count": 30,
      "outputs": []
    },
    {
      "cell_type": "code",
      "metadata": {
        "colab": {
          "base_uri": "https://localhost:8080/",
          "height": 220
        },
        "id": "AukQdMqZepxA",
        "outputId": "7e193af0-e492-437b-a752-b9d27d9be79b"
      },
      "source": [
        "df_Dic"
      ],
      "execution_count": 31,
      "outputs": [
        {
          "output_type": "execute_result",
          "data": {
            "text/html": [
              "<div>\n",
              "<style scoped>\n",
              "    .dataframe tbody tr th:only-of-type {\n",
              "        vertical-align: middle;\n",
              "    }\n",
              "\n",
              "    .dataframe tbody tr th {\n",
              "        vertical-align: top;\n",
              "    }\n",
              "\n",
              "    .dataframe thead th {\n",
              "        text-align: right;\n",
              "    }\n",
              "</style>\n",
              "<table border=\"1\" class=\"dataframe\">\n",
              "  <thead>\n",
              "    <tr style=\"text-align: right;\">\n",
              "      <th></th>\n",
              "      <th>nome</th>\n",
              "      <th>idade</th>\n",
              "      <th>cidade</th>\n",
              "      <th>comprou</th>\n",
              "    </tr>\n",
              "  </thead>\n",
              "  <tbody>\n",
              "    <tr>\n",
              "      <th>0</th>\n",
              "      <td>Israel</td>\n",
              "      <td>54</td>\n",
              "      <td>Barretos</td>\n",
              "      <td>True</td>\n",
              "    </tr>\n",
              "    <tr>\n",
              "      <th>1</th>\n",
              "      <td>Ana Paula</td>\n",
              "      <td>38</td>\n",
              "      <td>Salvador</td>\n",
              "      <td>True</td>\n",
              "    </tr>\n",
              "    <tr>\n",
              "      <th>2</th>\n",
              "      <td>Guilherme</td>\n",
              "      <td>16</td>\n",
              "      <td>São Paulo</td>\n",
              "      <td>True</td>\n",
              "    </tr>\n",
              "    <tr>\n",
              "      <th>3</th>\n",
              "      <td>Caroline</td>\n",
              "      <td>16</td>\n",
              "      <td>São Paulo</td>\n",
              "      <td>True</td>\n",
              "    </tr>\n",
              "    <tr>\n",
              "      <th>4</th>\n",
              "      <td>João Paulo</td>\n",
              "      <td>2</td>\n",
              "      <td>Salvador</td>\n",
              "      <td>False</td>\n",
              "    </tr>\n",
              "    <tr>\n",
              "      <th>5</th>\n",
              "      <td>José Antonio</td>\n",
              "      <td>2</td>\n",
              "      <td>Salvador</td>\n",
              "      <td>False</td>\n",
              "    </tr>\n",
              "  </tbody>\n",
              "</table>\n",
              "</div>"
            ],
            "text/plain": [
              "           nome  idade     cidade  comprou\n",
              "0        Israel     54   Barretos     True\n",
              "1     Ana Paula     38   Salvador     True\n",
              "2     Guilherme     16  São Paulo     True\n",
              "3      Caroline     16  São Paulo     True\n",
              "4    João Paulo      2   Salvador    False\n",
              "5  José Antonio      2   Salvador    False"
            ]
          },
          "metadata": {
            "tags": []
          },
          "execution_count": 31
        }
      ]
    },
    {
      "cell_type": "code",
      "metadata": {
        "id": "lgPAPqtIe27R"
      },
      "source": [
        "# Criando um identificador único para o DataFrame, ou indice\r\n",
        "id_usuario =['IS54','AP38','GU16','CA16','JP2','JA2']"
      ],
      "execution_count": 32,
      "outputs": []
    },
    {
      "cell_type": "code",
      "metadata": {
        "id": "dtTFUmKofT9F"
      },
      "source": [
        "# Associando o identificador único criado ao DataFrame\r\n",
        "df_Dic.index = id_usuario"
      ],
      "execution_count": 33,
      "outputs": []
    },
    {
      "cell_type": "code",
      "metadata": {
        "colab": {
          "base_uri": "https://localhost:8080/",
          "height": 220
        },
        "id": "wkV7Qc5HfgqI",
        "outputId": "867da179-b61f-4130-af24-7c67dee43df4"
      },
      "source": [
        "# Após associação\r\n",
        "df_Dic"
      ],
      "execution_count": 34,
      "outputs": [
        {
          "output_type": "execute_result",
          "data": {
            "text/html": [
              "<div>\n",
              "<style scoped>\n",
              "    .dataframe tbody tr th:only-of-type {\n",
              "        vertical-align: middle;\n",
              "    }\n",
              "\n",
              "    .dataframe tbody tr th {\n",
              "        vertical-align: top;\n",
              "    }\n",
              "\n",
              "    .dataframe thead th {\n",
              "        text-align: right;\n",
              "    }\n",
              "</style>\n",
              "<table border=\"1\" class=\"dataframe\">\n",
              "  <thead>\n",
              "    <tr style=\"text-align: right;\">\n",
              "      <th></th>\n",
              "      <th>nome</th>\n",
              "      <th>idade</th>\n",
              "      <th>cidade</th>\n",
              "      <th>comprou</th>\n",
              "    </tr>\n",
              "  </thead>\n",
              "  <tbody>\n",
              "    <tr>\n",
              "      <th>IS54</th>\n",
              "      <td>Israel</td>\n",
              "      <td>54</td>\n",
              "      <td>Barretos</td>\n",
              "      <td>True</td>\n",
              "    </tr>\n",
              "    <tr>\n",
              "      <th>AP38</th>\n",
              "      <td>Ana Paula</td>\n",
              "      <td>38</td>\n",
              "      <td>Salvador</td>\n",
              "      <td>True</td>\n",
              "    </tr>\n",
              "    <tr>\n",
              "      <th>GU16</th>\n",
              "      <td>Guilherme</td>\n",
              "      <td>16</td>\n",
              "      <td>São Paulo</td>\n",
              "      <td>True</td>\n",
              "    </tr>\n",
              "    <tr>\n",
              "      <th>CA16</th>\n",
              "      <td>Caroline</td>\n",
              "      <td>16</td>\n",
              "      <td>São Paulo</td>\n",
              "      <td>True</td>\n",
              "    </tr>\n",
              "    <tr>\n",
              "      <th>JP2</th>\n",
              "      <td>João Paulo</td>\n",
              "      <td>2</td>\n",
              "      <td>Salvador</td>\n",
              "      <td>False</td>\n",
              "    </tr>\n",
              "    <tr>\n",
              "      <th>JA2</th>\n",
              "      <td>José Antonio</td>\n",
              "      <td>2</td>\n",
              "      <td>Salvador</td>\n",
              "      <td>False</td>\n",
              "    </tr>\n",
              "  </tbody>\n",
              "</table>\n",
              "</div>"
            ],
            "text/plain": [
              "              nome  idade     cidade  comprou\n",
              "IS54        Israel     54   Barretos     True\n",
              "AP38     Ana Paula     38   Salvador     True\n",
              "GU16     Guilherme     16  São Paulo     True\n",
              "CA16      Caroline     16  São Paulo     True\n",
              "JP2     João Paulo      2   Salvador    False\n",
              "JA2   José Antonio      2   Salvador    False"
            ]
          },
          "metadata": {
            "tags": []
          },
          "execution_count": 34
        }
      ]
    },
    {
      "cell_type": "markdown",
      "metadata": {
        "id": "Cf0d0AUrfto0"
      },
      "source": [
        "# Criando Indice\r\n",
        "Como explicado acima, basta utilizar o \r\n",
        "\r\n",
        "```\r\n",
        "# df.index = chave_criada\r\n",
        "```\r\n",
        "para associar o indice ao DataFrame\r\n"
      ]
    },
    {
      "cell_type": "code",
      "metadata": {
        "colab": {
          "base_uri": "https://localhost:8080/"
        },
        "id": "LAUoUI1yjaLT",
        "outputId": "9035f4a9-c482-4bf7-a6ca-7165e290be54"
      },
      "source": [
        "# selecionar pelo index\r\n",
        "df_Dic.loc['AP38']"
      ],
      "execution_count": 35,
      "outputs": [
        {
          "output_type": "execute_result",
          "data": {
            "text/plain": [
              "nome       Ana Paula\n",
              "idade             38\n",
              "cidade      Salvador\n",
              "comprou         True\n",
              "Name: AP38, dtype: object"
            ]
          },
          "metadata": {
            "tags": []
          },
          "execution_count": 35
        }
      ]
    },
    {
      "cell_type": "markdown",
      "metadata": {
        "id": "d9N7GtJAb8O7"
      },
      "source": [
        "## Partindo de listas\r\n",
        "\r\n",
        "As listas são outra tipo de estrutura muito utilizado em Python e também facilmente utilizadas para criação de DataFrames, vejamos abaixo os mesmos passos utilizados acima, porém com esta outra estrutura:"
      ]
    },
    {
      "cell_type": "code",
      "metadata": {
        "id": "EOFFgX_McDqX"
      },
      "source": [
        "# Exemplo de dicionário\r\n",
        "dados_Lis = [['Israel', 54, 'Barretos', True],\r\n",
        "         ['Ana Paulo', 38, 'Salvador', True],\r\n",
        "         ['Guilherme', 16, 'São Paulo', True],\r\n",
        "         ['Caroline', 54, 'São Paulo', True],\r\n",
        "         ['João Paulo', 2, 'Salvador', False],\r\n",
        "         ['José Antonio', 2, 'Salvador', False]\r\n",
        "]\r\n",
        "   "
      ],
      "execution_count": 36,
      "outputs": []
    },
    {
      "cell_type": "code",
      "metadata": {
        "colab": {
          "base_uri": "https://localhost:8080/"
        },
        "id": "kY2R82LMcEGL",
        "outputId": "e2ffa35c-27a1-4c59-976a-a4675584031d"
      },
      "source": [
        "# Verificando o tipo de dados\r\n",
        "type(dados_Lis)"
      ],
      "execution_count": 37,
      "outputs": [
        {
          "output_type": "execute_result",
          "data": {
            "text/plain": [
              "list"
            ]
          },
          "metadata": {
            "tags": []
          },
          "execution_count": 37
        }
      ]
    },
    {
      "cell_type": "code",
      "metadata": {
        "id": "lopRBngdhV4N"
      },
      "source": [
        "# Criando o DataFrame\r\n",
        "df_Lis = pd.DataFrame(dados_Lis)"
      ],
      "execution_count": 38,
      "outputs": []
    },
    {
      "cell_type": "code",
      "metadata": {
        "colab": {
          "base_uri": "https://localhost:8080/",
          "height": 220
        },
        "id": "8pDWTaqFhbF0",
        "outputId": "1ed4e756-d754-4f0c-d3ff-a57a3160466d"
      },
      "source": [
        "df_Lis"
      ],
      "execution_count": 39,
      "outputs": [
        {
          "output_type": "execute_result",
          "data": {
            "text/html": [
              "<div>\n",
              "<style scoped>\n",
              "    .dataframe tbody tr th:only-of-type {\n",
              "        vertical-align: middle;\n",
              "    }\n",
              "\n",
              "    .dataframe tbody tr th {\n",
              "        vertical-align: top;\n",
              "    }\n",
              "\n",
              "    .dataframe thead th {\n",
              "        text-align: right;\n",
              "    }\n",
              "</style>\n",
              "<table border=\"1\" class=\"dataframe\">\n",
              "  <thead>\n",
              "    <tr style=\"text-align: right;\">\n",
              "      <th></th>\n",
              "      <th>0</th>\n",
              "      <th>1</th>\n",
              "      <th>2</th>\n",
              "      <th>3</th>\n",
              "    </tr>\n",
              "  </thead>\n",
              "  <tbody>\n",
              "    <tr>\n",
              "      <th>0</th>\n",
              "      <td>Israel</td>\n",
              "      <td>54</td>\n",
              "      <td>Barretos</td>\n",
              "      <td>True</td>\n",
              "    </tr>\n",
              "    <tr>\n",
              "      <th>1</th>\n",
              "      <td>Ana Paulo</td>\n",
              "      <td>38</td>\n",
              "      <td>Salvador</td>\n",
              "      <td>True</td>\n",
              "    </tr>\n",
              "    <tr>\n",
              "      <th>2</th>\n",
              "      <td>Guilherme</td>\n",
              "      <td>16</td>\n",
              "      <td>São Paulo</td>\n",
              "      <td>True</td>\n",
              "    </tr>\n",
              "    <tr>\n",
              "      <th>3</th>\n",
              "      <td>Caroline</td>\n",
              "      <td>54</td>\n",
              "      <td>São Paulo</td>\n",
              "      <td>True</td>\n",
              "    </tr>\n",
              "    <tr>\n",
              "      <th>4</th>\n",
              "      <td>João Paulo</td>\n",
              "      <td>2</td>\n",
              "      <td>Salvador</td>\n",
              "      <td>False</td>\n",
              "    </tr>\n",
              "    <tr>\n",
              "      <th>5</th>\n",
              "      <td>José Antonio</td>\n",
              "      <td>2</td>\n",
              "      <td>Salvador</td>\n",
              "      <td>False</td>\n",
              "    </tr>\n",
              "  </tbody>\n",
              "</table>\n",
              "</div>"
            ],
            "text/plain": [
              "              0   1          2      3\n",
              "0        Israel  54   Barretos   True\n",
              "1     Ana Paulo  38   Salvador   True\n",
              "2     Guilherme  16  São Paulo   True\n",
              "3      Caroline  54  São Paulo   True\n",
              "4    João Paulo   2   Salvador  False\n",
              "5  José Antonio   2   Salvador  False"
            ]
          },
          "metadata": {
            "tags": []
          },
          "execution_count": 39
        }
      ]
    },
    {
      "cell_type": "code",
      "metadata": {
        "id": "NNkf79e7hh4i"
      },
      "source": [
        ""
      ],
      "execution_count": null,
      "outputs": []
    },
    {
      "cell_type": "markdown",
      "metadata": {
        "id": "idenpmNshfyH"
      },
      "source": [
        "# Diferenças entre Dicionários e Lista no uso de DataFrame\r\n",
        "Neste caso observamos que a linha superior das colunas não possuem nomes, apenas uma sequencia númerica (0,1,2,3 etc).\r\n",
        "Para que possamos deixar no mesmo padrão do anterior faremos alguns ajustes:"
      ]
    },
    {
      "cell_type": "code",
      "metadata": {
        "id": "AVO2gos2h799"
      },
      "source": [
        "# Criando já com os nomes das colunas no DataFrame e indice\r\n",
        "# criar DataFrame\r\n",
        "id_usuario =['IS54','AP38','GU16','CA16','JP2','JA2']\r\n",
        "df_Lis = pd.DataFrame(dados_Lis, columns=['nome', 'idade', 'cidade', 'comprou'],\r\n",
        "                  index=id_usuario)\r\n",
        "       \r\n"
      ],
      "execution_count": 40,
      "outputs": []
    },
    {
      "cell_type": "code",
      "metadata": {
        "colab": {
          "base_uri": "https://localhost:8080/",
          "height": 220
        },
        "id": "6oNPa7AAiO8v",
        "outputId": "b5e1ee83-a028-46ed-b93e-5f0843dd45ff"
      },
      "source": [
        "# Criando um identificador único para o DataFrame, ou indice\r\n",
        "df_Lis"
      ],
      "execution_count": 41,
      "outputs": [
        {
          "output_type": "execute_result",
          "data": {
            "text/html": [
              "<div>\n",
              "<style scoped>\n",
              "    .dataframe tbody tr th:only-of-type {\n",
              "        vertical-align: middle;\n",
              "    }\n",
              "\n",
              "    .dataframe tbody tr th {\n",
              "        vertical-align: top;\n",
              "    }\n",
              "\n",
              "    .dataframe thead th {\n",
              "        text-align: right;\n",
              "    }\n",
              "</style>\n",
              "<table border=\"1\" class=\"dataframe\">\n",
              "  <thead>\n",
              "    <tr style=\"text-align: right;\">\n",
              "      <th></th>\n",
              "      <th>nome</th>\n",
              "      <th>idade</th>\n",
              "      <th>cidade</th>\n",
              "      <th>comprou</th>\n",
              "    </tr>\n",
              "  </thead>\n",
              "  <tbody>\n",
              "    <tr>\n",
              "      <th>IS54</th>\n",
              "      <td>Israel</td>\n",
              "      <td>54</td>\n",
              "      <td>Barretos</td>\n",
              "      <td>True</td>\n",
              "    </tr>\n",
              "    <tr>\n",
              "      <th>AP38</th>\n",
              "      <td>Ana Paulo</td>\n",
              "      <td>38</td>\n",
              "      <td>Salvador</td>\n",
              "      <td>True</td>\n",
              "    </tr>\n",
              "    <tr>\n",
              "      <th>GU16</th>\n",
              "      <td>Guilherme</td>\n",
              "      <td>16</td>\n",
              "      <td>São Paulo</td>\n",
              "      <td>True</td>\n",
              "    </tr>\n",
              "    <tr>\n",
              "      <th>CA16</th>\n",
              "      <td>Caroline</td>\n",
              "      <td>54</td>\n",
              "      <td>São Paulo</td>\n",
              "      <td>True</td>\n",
              "    </tr>\n",
              "    <tr>\n",
              "      <th>JP2</th>\n",
              "      <td>João Paulo</td>\n",
              "      <td>2</td>\n",
              "      <td>Salvador</td>\n",
              "      <td>False</td>\n",
              "    </tr>\n",
              "    <tr>\n",
              "      <th>JA2</th>\n",
              "      <td>José Antonio</td>\n",
              "      <td>2</td>\n",
              "      <td>Salvador</td>\n",
              "      <td>False</td>\n",
              "    </tr>\n",
              "  </tbody>\n",
              "</table>\n",
              "</div>"
            ],
            "text/plain": [
              "              nome  idade     cidade  comprou\n",
              "IS54        Israel     54   Barretos     True\n",
              "AP38     Ana Paulo     38   Salvador     True\n",
              "GU16     Guilherme     16  São Paulo     True\n",
              "CA16      Caroline     54  São Paulo     True\n",
              "JP2     João Paulo      2   Salvador    False\n",
              "JA2   José Antonio      2   Salvador    False"
            ]
          },
          "metadata": {
            "tags": []
          },
          "execution_count": 41
        }
      ]
    },
    {
      "cell_type": "code",
      "metadata": {
        "colab": {
          "base_uri": "https://localhost:8080/"
        },
        "id": "M-45NbSyjInH",
        "outputId": "a7180361-81b6-4596-980e-8b7ea37450ea"
      },
      "source": [
        "# selecionar pelo index\r\n",
        "df_Lis.loc['IS54']"
      ],
      "execution_count": 42,
      "outputs": [
        {
          "output_type": "execute_result",
          "data": {
            "text/plain": [
              "nome         Israel\n",
              "idade            54\n",
              "cidade     Barretos\n",
              "comprou        True\n",
              "Name: IS54, dtype: object"
            ]
          },
          "metadata": {
            "tags": []
          },
          "execution_count": 42
        }
      ]
    },
    {
      "cell_type": "markdown",
      "metadata": {
        "id": "J8Rtj8qjkec_"
      },
      "source": [
        "# Criando novas colunas\r\n",
        "Independente da maneira como foi criado podemos adicionar colunas novas ao DataFrame com a funcionalidade chamada *broadcasting*.\r\n",
        "Basta informar o nome da nova coluna e declarar um valor."
      ]
    },
    {
      "cell_type": "code",
      "metadata": {
        "colab": {
          "base_uri": "https://localhost:8080/",
          "height": 220
        },
        "id": "f9xCdBzZk1HE",
        "outputId": "a6ed2540-6686-4420-b1c2-6ca7b98f2972"
      },
      "source": [
        "# Criar coluna \"saldo\"\r\n",
        "df_Dic['saldo'] = 0.0\r\n",
        "\r\n",
        "# Apresentar o DataFrame\r\n",
        "df_Dic"
      ],
      "execution_count": 43,
      "outputs": [
        {
          "output_type": "execute_result",
          "data": {
            "text/html": [
              "<div>\n",
              "<style scoped>\n",
              "    .dataframe tbody tr th:only-of-type {\n",
              "        vertical-align: middle;\n",
              "    }\n",
              "\n",
              "    .dataframe tbody tr th {\n",
              "        vertical-align: top;\n",
              "    }\n",
              "\n",
              "    .dataframe thead th {\n",
              "        text-align: right;\n",
              "    }\n",
              "</style>\n",
              "<table border=\"1\" class=\"dataframe\">\n",
              "  <thead>\n",
              "    <tr style=\"text-align: right;\">\n",
              "      <th></th>\n",
              "      <th>nome</th>\n",
              "      <th>idade</th>\n",
              "      <th>cidade</th>\n",
              "      <th>comprou</th>\n",
              "      <th>saldo</th>\n",
              "    </tr>\n",
              "  </thead>\n",
              "  <tbody>\n",
              "    <tr>\n",
              "      <th>IS54</th>\n",
              "      <td>Israel</td>\n",
              "      <td>54</td>\n",
              "      <td>Barretos</td>\n",
              "      <td>True</td>\n",
              "      <td>0.0</td>\n",
              "    </tr>\n",
              "    <tr>\n",
              "      <th>AP38</th>\n",
              "      <td>Ana Paula</td>\n",
              "      <td>38</td>\n",
              "      <td>Salvador</td>\n",
              "      <td>True</td>\n",
              "      <td>0.0</td>\n",
              "    </tr>\n",
              "    <tr>\n",
              "      <th>GU16</th>\n",
              "      <td>Guilherme</td>\n",
              "      <td>16</td>\n",
              "      <td>São Paulo</td>\n",
              "      <td>True</td>\n",
              "      <td>0.0</td>\n",
              "    </tr>\n",
              "    <tr>\n",
              "      <th>CA16</th>\n",
              "      <td>Caroline</td>\n",
              "      <td>16</td>\n",
              "      <td>São Paulo</td>\n",
              "      <td>True</td>\n",
              "      <td>0.0</td>\n",
              "    </tr>\n",
              "    <tr>\n",
              "      <th>JP2</th>\n",
              "      <td>João Paulo</td>\n",
              "      <td>2</td>\n",
              "      <td>Salvador</td>\n",
              "      <td>False</td>\n",
              "      <td>0.0</td>\n",
              "    </tr>\n",
              "    <tr>\n",
              "      <th>JA2</th>\n",
              "      <td>José Antonio</td>\n",
              "      <td>2</td>\n",
              "      <td>Salvador</td>\n",
              "      <td>False</td>\n",
              "      <td>0.0</td>\n",
              "    </tr>\n",
              "  </tbody>\n",
              "</table>\n",
              "</div>"
            ],
            "text/plain": [
              "              nome  idade     cidade  comprou  saldo\n",
              "IS54        Israel     54   Barretos     True    0.0\n",
              "AP38     Ana Paula     38   Salvador     True    0.0\n",
              "GU16     Guilherme     16  São Paulo     True    0.0\n",
              "CA16      Caroline     16  São Paulo     True    0.0\n",
              "JP2     João Paulo      2   Salvador    False    0.0\n",
              "JA2   José Antonio      2   Salvador    False    0.0"
            ]
          },
          "metadata": {
            "tags": []
          },
          "execution_count": 43
        }
      ]
    },
    {
      "cell_type": "code",
      "metadata": {
        "colab": {
          "base_uri": "https://localhost:8080/",
          "height": 220
        },
        "id": "y4yDw5b1kcCr",
        "outputId": "7a93f52c-b2eb-4d41-b812-f312bfa002e9"
      },
      "source": [
        "# Criar coluna \"saldo\"\r\n",
        "df_Lis['saldo'] = 0.0\r\n",
        "\r\n",
        "# Apresentar o DataFrame\r\n",
        "df_Lis"
      ],
      "execution_count": 44,
      "outputs": [
        {
          "output_type": "execute_result",
          "data": {
            "text/html": [
              "<div>\n",
              "<style scoped>\n",
              "    .dataframe tbody tr th:only-of-type {\n",
              "        vertical-align: middle;\n",
              "    }\n",
              "\n",
              "    .dataframe tbody tr th {\n",
              "        vertical-align: top;\n",
              "    }\n",
              "\n",
              "    .dataframe thead th {\n",
              "        text-align: right;\n",
              "    }\n",
              "</style>\n",
              "<table border=\"1\" class=\"dataframe\">\n",
              "  <thead>\n",
              "    <tr style=\"text-align: right;\">\n",
              "      <th></th>\n",
              "      <th>nome</th>\n",
              "      <th>idade</th>\n",
              "      <th>cidade</th>\n",
              "      <th>comprou</th>\n",
              "      <th>saldo</th>\n",
              "    </tr>\n",
              "  </thead>\n",
              "  <tbody>\n",
              "    <tr>\n",
              "      <th>IS54</th>\n",
              "      <td>Israel</td>\n",
              "      <td>54</td>\n",
              "      <td>Barretos</td>\n",
              "      <td>True</td>\n",
              "      <td>0.0</td>\n",
              "    </tr>\n",
              "    <tr>\n",
              "      <th>AP38</th>\n",
              "      <td>Ana Paulo</td>\n",
              "      <td>38</td>\n",
              "      <td>Salvador</td>\n",
              "      <td>True</td>\n",
              "      <td>0.0</td>\n",
              "    </tr>\n",
              "    <tr>\n",
              "      <th>GU16</th>\n",
              "      <td>Guilherme</td>\n",
              "      <td>16</td>\n",
              "      <td>São Paulo</td>\n",
              "      <td>True</td>\n",
              "      <td>0.0</td>\n",
              "    </tr>\n",
              "    <tr>\n",
              "      <th>CA16</th>\n",
              "      <td>Caroline</td>\n",
              "      <td>54</td>\n",
              "      <td>São Paulo</td>\n",
              "      <td>True</td>\n",
              "      <td>0.0</td>\n",
              "    </tr>\n",
              "    <tr>\n",
              "      <th>JP2</th>\n",
              "      <td>João Paulo</td>\n",
              "      <td>2</td>\n",
              "      <td>Salvador</td>\n",
              "      <td>False</td>\n",
              "      <td>0.0</td>\n",
              "    </tr>\n",
              "    <tr>\n",
              "      <th>JA2</th>\n",
              "      <td>José Antonio</td>\n",
              "      <td>2</td>\n",
              "      <td>Salvador</td>\n",
              "      <td>False</td>\n",
              "      <td>0.0</td>\n",
              "    </tr>\n",
              "  </tbody>\n",
              "</table>\n",
              "</div>"
            ],
            "text/plain": [
              "              nome  idade     cidade  comprou  saldo\n",
              "IS54        Israel     54   Barretos     True    0.0\n",
              "AP38     Ana Paulo     38   Salvador     True    0.0\n",
              "GU16     Guilherme     16  São Paulo     True    0.0\n",
              "CA16      Caroline     54  São Paulo     True    0.0\n",
              "JP2     João Paulo      2   Salvador    False    0.0\n",
              "JA2   José Antonio      2   Salvador    False    0.0"
            ]
          },
          "metadata": {
            "tags": []
          },
          "execution_count": 44
        }
      ]
    },
    {
      "cell_type": "markdown",
      "metadata": {
        "id": "jPhG3vCxldRN"
      },
      "source": [
        "# Modificanod o Index e colunas\r\n",
        "\r\n",
        "Caso seja necessário, alterar o nome dos indices, ou o label das colunas, podemos realizar esta tarefa de forma simples"
      ]
    },
    {
      "cell_type": "code",
      "metadata": {
        "colab": {
          "base_uri": "https://localhost:8080/"
        },
        "id": "5TjxJWIglvWi",
        "outputId": "03dae5bb-4dbb-4a6d-a6a6-40f880e77d0f"
      },
      "source": [
        "#Verificando o index existente\r\n",
        "df_Dic.index"
      ],
      "execution_count": 46,
      "outputs": [
        {
          "output_type": "execute_result",
          "data": {
            "text/plain": [
              "Index(['IS54', 'AP38', 'GU16', 'CA16', 'JP2', 'JA2'], dtype='object')"
            ]
          },
          "metadata": {
            "tags": []
          },
          "execution_count": 46
        }
      ]
    },
    {
      "cell_type": "code",
      "metadata": {
        "colab": {
          "base_uri": "https://localhost:8080/",
          "height": 220
        },
        "id": "AeQe3-hSl63c",
        "outputId": "2664bc3a-4f2c-4d47-d074-e4e54ef3261b"
      },
      "source": [
        "#Alterando o index\r\n",
        "df_Dic.index =['54IS','38AP','16GUI','16CA','2JP','2JA']\r\n",
        "df_Dic"
      ],
      "execution_count": 47,
      "outputs": [
        {
          "output_type": "execute_result",
          "data": {
            "text/html": [
              "<div>\n",
              "<style scoped>\n",
              "    .dataframe tbody tr th:only-of-type {\n",
              "        vertical-align: middle;\n",
              "    }\n",
              "\n",
              "    .dataframe tbody tr th {\n",
              "        vertical-align: top;\n",
              "    }\n",
              "\n",
              "    .dataframe thead th {\n",
              "        text-align: right;\n",
              "    }\n",
              "</style>\n",
              "<table border=\"1\" class=\"dataframe\">\n",
              "  <thead>\n",
              "    <tr style=\"text-align: right;\">\n",
              "      <th></th>\n",
              "      <th>nome</th>\n",
              "      <th>idade</th>\n",
              "      <th>cidade</th>\n",
              "      <th>comprou</th>\n",
              "      <th>saldo</th>\n",
              "    </tr>\n",
              "  </thead>\n",
              "  <tbody>\n",
              "    <tr>\n",
              "      <th>54IS</th>\n",
              "      <td>Israel</td>\n",
              "      <td>54</td>\n",
              "      <td>Barretos</td>\n",
              "      <td>True</td>\n",
              "      <td>0.0</td>\n",
              "    </tr>\n",
              "    <tr>\n",
              "      <th>38AP</th>\n",
              "      <td>Ana Paula</td>\n",
              "      <td>38</td>\n",
              "      <td>Salvador</td>\n",
              "      <td>True</td>\n",
              "      <td>0.0</td>\n",
              "    </tr>\n",
              "    <tr>\n",
              "      <th>16GUI</th>\n",
              "      <td>Guilherme</td>\n",
              "      <td>16</td>\n",
              "      <td>São Paulo</td>\n",
              "      <td>True</td>\n",
              "      <td>0.0</td>\n",
              "    </tr>\n",
              "    <tr>\n",
              "      <th>16CA</th>\n",
              "      <td>Caroline</td>\n",
              "      <td>16</td>\n",
              "      <td>São Paulo</td>\n",
              "      <td>True</td>\n",
              "      <td>0.0</td>\n",
              "    </tr>\n",
              "    <tr>\n",
              "      <th>2JP</th>\n",
              "      <td>João Paulo</td>\n",
              "      <td>2</td>\n",
              "      <td>Salvador</td>\n",
              "      <td>False</td>\n",
              "      <td>0.0</td>\n",
              "    </tr>\n",
              "    <tr>\n",
              "      <th>2JA</th>\n",
              "      <td>José Antonio</td>\n",
              "      <td>2</td>\n",
              "      <td>Salvador</td>\n",
              "      <td>False</td>\n",
              "      <td>0.0</td>\n",
              "    </tr>\n",
              "  </tbody>\n",
              "</table>\n",
              "</div>"
            ],
            "text/plain": [
              "               nome  idade     cidade  comprou  saldo\n",
              "54IS         Israel     54   Barretos     True    0.0\n",
              "38AP      Ana Paula     38   Salvador     True    0.0\n",
              "16GUI     Guilherme     16  São Paulo     True    0.0\n",
              "16CA       Caroline     16  São Paulo     True    0.0\n",
              "2JP      João Paulo      2   Salvador    False    0.0\n",
              "2JA    José Antonio      2   Salvador    False    0.0"
            ]
          },
          "metadata": {
            "tags": []
          },
          "execution_count": 47
        }
      ]
    },
    {
      "cell_type": "code",
      "metadata": {
        "colab": {
          "base_uri": "https://localhost:8080/",
          "height": 220
        },
        "id": "mwZLQ27EmV7G",
        "outputId": "66fee86c-0a79-4620-b860-0b53e5491552"
      },
      "source": [
        "# Alterando nome das colunas\r\n",
        "colunas = ['Nome Familia', 'Idade','Naturalidade','Fez compras?','Saldo na loja']\r\n",
        "df_Lis.columns = colunas\r\n",
        "df_Lis"
      ],
      "execution_count": 50,
      "outputs": [
        {
          "output_type": "execute_result",
          "data": {
            "text/html": [
              "<div>\n",
              "<style scoped>\n",
              "    .dataframe tbody tr th:only-of-type {\n",
              "        vertical-align: middle;\n",
              "    }\n",
              "\n",
              "    .dataframe tbody tr th {\n",
              "        vertical-align: top;\n",
              "    }\n",
              "\n",
              "    .dataframe thead th {\n",
              "        text-align: right;\n",
              "    }\n",
              "</style>\n",
              "<table border=\"1\" class=\"dataframe\">\n",
              "  <thead>\n",
              "    <tr style=\"text-align: right;\">\n",
              "      <th></th>\n",
              "      <th>Nome Familia</th>\n",
              "      <th>Idade</th>\n",
              "      <th>Naturalidade</th>\n",
              "      <th>Fez compras?</th>\n",
              "      <th>Saldo na loja</th>\n",
              "    </tr>\n",
              "  </thead>\n",
              "  <tbody>\n",
              "    <tr>\n",
              "      <th>IS54</th>\n",
              "      <td>Israel</td>\n",
              "      <td>54</td>\n",
              "      <td>Barretos</td>\n",
              "      <td>True</td>\n",
              "      <td>0.0</td>\n",
              "    </tr>\n",
              "    <tr>\n",
              "      <th>AP38</th>\n",
              "      <td>Ana Paulo</td>\n",
              "      <td>38</td>\n",
              "      <td>Salvador</td>\n",
              "      <td>True</td>\n",
              "      <td>0.0</td>\n",
              "    </tr>\n",
              "    <tr>\n",
              "      <th>GU16</th>\n",
              "      <td>Guilherme</td>\n",
              "      <td>16</td>\n",
              "      <td>São Paulo</td>\n",
              "      <td>True</td>\n",
              "      <td>0.0</td>\n",
              "    </tr>\n",
              "    <tr>\n",
              "      <th>CA16</th>\n",
              "      <td>Caroline</td>\n",
              "      <td>54</td>\n",
              "      <td>São Paulo</td>\n",
              "      <td>True</td>\n",
              "      <td>0.0</td>\n",
              "    </tr>\n",
              "    <tr>\n",
              "      <th>JP2</th>\n",
              "      <td>João Paulo</td>\n",
              "      <td>2</td>\n",
              "      <td>Salvador</td>\n",
              "      <td>False</td>\n",
              "      <td>0.0</td>\n",
              "    </tr>\n",
              "    <tr>\n",
              "      <th>JA2</th>\n",
              "      <td>José Antonio</td>\n",
              "      <td>2</td>\n",
              "      <td>Salvador</td>\n",
              "      <td>False</td>\n",
              "      <td>0.0</td>\n",
              "    </tr>\n",
              "  </tbody>\n",
              "</table>\n",
              "</div>"
            ],
            "text/plain": [
              "      Nome Familia  Idade Naturalidade  Fez compras?  Saldo na loja\n",
              "IS54        Israel     54     Barretos          True            0.0\n",
              "AP38     Ana Paulo     38     Salvador          True            0.0\n",
              "GU16     Guilherme     16    São Paulo          True            0.0\n",
              "CA16      Caroline     54    São Paulo          True            0.0\n",
              "JP2     João Paulo      2     Salvador         False            0.0\n",
              "JA2   José Antonio      2     Salvador         False            0.0"
            ]
          },
          "metadata": {
            "tags": []
          },
          "execution_count": 50
        }
      ]
    }
  ]
}