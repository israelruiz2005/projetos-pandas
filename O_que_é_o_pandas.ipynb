{
  "nbformat": 4,
  "nbformat_minor": 0,
  "metadata": {
    "colab": {
      "name": "O que é o pandas.ipynb",
      "provenance": [],
      "collapsed_sections": [],
      "toc_visible": true,
      "authorship_tag": "ABX9TyPakjEQhVvcle0LQcALljo/",
      "include_colab_link": true
    },
    "kernelspec": {
      "name": "python3",
      "display_name": "Python 3"
    }
  },
  "cells": [
    {
      "cell_type": "markdown",
      "metadata": {
        "id": "view-in-github",
        "colab_type": "text"
      },
      "source": [
        "<a href=\"https://colab.research.google.com/github/israelruiz2005/projetos_pandas/blob/main/O_que_%C3%A9_o_pandas.ipynb\" target=\"_parent\"><img src=\"https://colab.research.google.com/assets/colab-badge.svg\" alt=\"Open In Colab\"/></a>"
      ]
    },
    {
      "cell_type": "markdown",
      "metadata": {
        "id": "k7qJ0UhFe1Wi"
      },
      "source": [
        "# Introdução ao pandas\r\n",
        "\r\n",
        "![300px-Pandas_logo.svg.png](data:image/png;base64,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)\r\n",
        "\r\n",
        "\r\n",
        "Em programação de computadores, pandas é uma biblioteca de software criada para a linguagem Python para manipulação e análise de dados. Em particular, oferece estruturas e operações para manipular tabelas numéricas e séries temporais. *fonte:[wikipedia](https://pt.wikipedia.org/wiki/Pandas_(software)#:~:text=Em%20programa%C3%A7%C3%A3o%20de%20computadores%2C%20pandas,tabelas%20num%C3%A9ricas%20e%20s%C3%A9ries%20temporais.)*\r\n",
        "\r\n",
        "Portanto é uma das bibliotecas mais utilizadas para analises de dados, seu nome é derivado da lingua inglesa \"panel data\", é construida em python. Abaixo veremos suas principais caracteristicas\r\n",
        "\r\n",
        "\r\n"
      ]
    },
    {
      "cell_type": "markdown",
      "metadata": {
        "id": "yeRpohuVg6rv"
      },
      "source": [
        "# Documentação\r\n",
        "\r\n",
        "A biblioteca possui uma vasta documentação que pode ser consultada no site oficial https://pandas.pydata.org/docs/.\r\n",
        "\r\n",
        "# Instalação\r\n",
        "\r\n",
        "\r\n",
        "Podemos instalar a biblioteca através do anaconda com o comando\r\n",
        "\r\n",
        "`conda install pandas`\r\n",
        "\r\n",
        "ou através do pip\r\n",
        "\r\n",
        "`pip install pandas`\r\n",
        "\r\n",
        "\r\n",
        "No google.colab já vem pronta para uso"
      ]
    },
    {
      "cell_type": "code",
      "metadata": {
        "id": "LH4kBZbIex8c"
      },
      "source": [
        "# abaixo um exemplo de instalação silencionsa\r\n",
        "!pip install pandas -q"
      ],
      "execution_count": 3,
      "outputs": []
    },
    {
      "cell_type": "markdown",
      "metadata": {
        "id": "VneP1uNfixpa"
      },
      "source": [
        "Pandas é a ferramenta certa para quem trabalha obtendo de planilhas ou dados tabulares, no pandas chamados de DataFrame, sendo a junção de linhas e colunas.\r\n",
        "\r\n",
        "![table_dataframe.svg.png](data:image/png;base64,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)\r\n"
      ]
    },
    {
      "cell_type": "markdown",
      "metadata": {
        "id": "uZeQxeVLku72"
      },
      "source": [
        "# Obtendo os dados\r\n",
        "\r\n",
        "A obtenção pode ser realizadas de diversas maneiras, CSV,XLS,HTML,PDF,JSON, SQL etc, bastando utilizar o comando read_*, sendo o \"*\" as variantes dos metodos existentes.\r\n",
        "\r\n",
        "A exportação ou gravação segue o mesmo padrão sento to_*.\r\n",
        "\r\n",
        "Vamos exemplificar abaixo utilizando um arquivo CSV.\r\n",
        "\r\n",
        "## Importando a biblioteca para uso\r\n",
        "\r\n",
        "Como padronização utiliza-se o comando:\r\n",
        "\r\n",
        "`import pandas as pd`\r\n",
        "\r\n",
        "Desta forma facilitando a vida dos utilizadores."
      ]
    },
    {
      "cell_type": "code",
      "metadata": {
        "id": "0dTrDUUQid0-"
      },
      "source": [
        "import pandas as pd"
      ],
      "execution_count": 4,
      "outputs": []
    },
    {
      "cell_type": "markdown",
      "metadata": {
        "id": "uD8bIFQkl9XL"
      },
      "source": [
        "# Leitura de um arquivo CSV\r\n",
        "\r\n",
        "Para nosso exemplo utilizaremos os dados de cotação de ações do [Yahoo Finance](https://finance.yahoo.com/quote/ETER3.SA/history?period1=1582070656&period2=1613693056&interval=1mo&filter=history&frequency=1mo&includeAdjustedClose=true)\r\n"
      ]
    },
    {
      "cell_type": "code",
      "metadata": {
        "id": "Di6-zifNmqZx"
      },
      "source": [
        "df =pd.read_csv('https://raw.githubusercontent.com/israelruiz2005/projetos_pandas/main/DataSet/ETER3.SA_mes.csv')"
      ],
      "execution_count": 5,
      "outputs": []
    },
    {
      "cell_type": "markdown",
      "metadata": {
        "id": "PxaNhjo-rArZ"
      },
      "source": [
        "## O que podemos fazer após importar o arquivo?\r\n",
        "\r\n",
        "Os dois componentes básicos que precisamos conhecer quando utilizamos a biblioteca Pandas são `Series` e `DataFrame`.\r\n",
        "\r\n",
        "O `DataFrame` é similar a uma planilha de Excel, e as `Series` como uma coluna individual.\r\n",
        "\r\n",
        "Apesar de parecer conceitualmente simples, estas duas estruturas nativas do Pandas facilitam muito o trabalho com dados, uma vez que elas podem armazenar qualquer tipo de dado."
      ]
    },
    {
      "cell_type": "code",
      "metadata": {
        "colab": {
          "base_uri": "https://localhost:8080/"
        },
        "id": "PUP3f5mOsSk3",
        "outputId": "5e5a7579-e6d5-40d9-f40f-7b8da9430b7c"
      },
      "source": [
        "# O tipo de dado do pandas\r\n",
        "type(df)"
      ],
      "execution_count": 6,
      "outputs": [
        {
          "output_type": "execute_result",
          "data": {
            "text/plain": [
              "pandas.core.frame.DataFrame"
            ]
          },
          "metadata": {
            "tags": []
          },
          "execution_count": 6
        }
      ]
    },
    {
      "cell_type": "code",
      "metadata": {
        "colab": {
          "base_uri": "https://localhost:8080/"
        },
        "id": "jNRI2qLRseSz",
        "outputId": "977daa5a-b350-4242-c2ae-aee21f4dc3e1"
      },
      "source": [
        "# Verificando o tipo de dados de uma coluna\r\n",
        "type(df['Date'])"
      ],
      "execution_count": 7,
      "outputs": [
        {
          "output_type": "execute_result",
          "data": {
            "text/plain": [
              "pandas.core.series.Series"
            ]
          },
          "metadata": {
            "tags": []
          },
          "execution_count": 7
        }
      ]
    },
    {
      "cell_type": "markdown",
      "metadata": {
        "id": "UueVxSMzsvJF"
      },
      "source": [
        "## Analisando o DataFrame\r\n",
        "\r\n",
        "`df.shape` nos fala das dimensões\r\n",
        "\r\n",
        "`df.head()` nos apresenta o conteudo inicial\r\n",
        "\r\n",
        "`df.tail()` nos apresenta o conteudo final\r\n",
        "\r\n",
        "`df.info` nos apresenta dados dos tipos de variaveis\r\n"
      ]
    },
    {
      "cell_type": "code",
      "metadata": {
        "colab": {
          "base_uri": "https://localhost:8080/"
        },
        "id": "vnWZrWses1ID",
        "outputId": "e7e4d095-c754-494e-d5f4-9c7a62122a6c"
      },
      "source": [
        "df.shape"
      ],
      "execution_count": 13,
      "outputs": [
        {
          "output_type": "execute_result",
          "data": {
            "text/plain": [
              "(13, 7)"
            ]
          },
          "metadata": {
            "tags": []
          },
          "execution_count": 13
        }
      ]
    },
    {
      "cell_type": "code",
      "metadata": {
        "colab": {
          "base_uri": "https://localhost:8080/",
          "height": 191
        },
        "id": "P11nMijatJMM",
        "outputId": "547d68ea-f2d4-4382-ed3d-3f5e2701fa6f"
      },
      "source": [
        "df.head()"
      ],
      "execution_count": 10,
      "outputs": [
        {
          "output_type": "execute_result",
          "data": {
            "text/html": [
              "<div>\n",
              "<style scoped>\n",
              "    .dataframe tbody tr th:only-of-type {\n",
              "        vertical-align: middle;\n",
              "    }\n",
              "\n",
              "    .dataframe tbody tr th {\n",
              "        vertical-align: top;\n",
              "    }\n",
              "\n",
              "    .dataframe thead th {\n",
              "        text-align: right;\n",
              "    }\n",
              "</style>\n",
              "<table border=\"1\" class=\"dataframe\">\n",
              "  <thead>\n",
              "    <tr style=\"text-align: right;\">\n",
              "      <th></th>\n",
              "      <th>Date</th>\n",
              "      <th>Open</th>\n",
              "      <th>High</th>\n",
              "      <th>Low</th>\n",
              "      <th>Close</th>\n",
              "      <th>Adj Close</th>\n",
              "      <th>Volume</th>\n",
              "    </tr>\n",
              "  </thead>\n",
              "  <tbody>\n",
              "    <tr>\n",
              "      <th>0</th>\n",
              "      <td>2020-03-01</td>\n",
              "      <td>4.754050</td>\n",
              "      <td>5.804255</td>\n",
              "      <td>2.391090</td>\n",
              "      <td>2.400467</td>\n",
              "      <td>2.400467</td>\n",
              "      <td>14142943</td>\n",
              "    </tr>\n",
              "    <tr>\n",
              "      <th>1</th>\n",
              "      <td>2020-04-01</td>\n",
              "      <td>2.297322</td>\n",
              "      <td>2.981830</td>\n",
              "      <td>2.119162</td>\n",
              "      <td>2.625511</td>\n",
              "      <td>2.625511</td>\n",
              "      <td>12029861</td>\n",
              "    </tr>\n",
              "    <tr>\n",
              "      <th>2</th>\n",
              "      <td>2020-05-01</td>\n",
              "      <td>2.625511</td>\n",
              "      <td>2.850000</td>\n",
              "      <td>2.380000</td>\n",
              "      <td>2.650000</td>\n",
              "      <td>2.650000</td>\n",
              "      <td>5608263</td>\n",
              "    </tr>\n",
              "    <tr>\n",
              "      <th>3</th>\n",
              "      <td>2020-06-01</td>\n",
              "      <td>2.670000</td>\n",
              "      <td>3.990000</td>\n",
              "      <td>2.670000</td>\n",
              "      <td>3.580000</td>\n",
              "      <td>3.580000</td>\n",
              "      <td>20842500</td>\n",
              "    </tr>\n",
              "    <tr>\n",
              "      <th>4</th>\n",
              "      <td>2020-07-01</td>\n",
              "      <td>3.610000</td>\n",
              "      <td>5.970000</td>\n",
              "      <td>3.550000</td>\n",
              "      <td>4.830000</td>\n",
              "      <td>4.830000</td>\n",
              "      <td>34197300</td>\n",
              "    </tr>\n",
              "  </tbody>\n",
              "</table>\n",
              "</div>"
            ],
            "text/plain": [
              "         Date      Open      High       Low     Close  Adj Close    Volume\n",
              "0  2020-03-01  4.754050  5.804255  2.391090  2.400467   2.400467  14142943\n",
              "1  2020-04-01  2.297322  2.981830  2.119162  2.625511   2.625511  12029861\n",
              "2  2020-05-01  2.625511  2.850000  2.380000  2.650000   2.650000   5608263\n",
              "3  2020-06-01  2.670000  3.990000  2.670000  3.580000   3.580000  20842500\n",
              "4  2020-07-01  3.610000  5.970000  3.550000  4.830000   4.830000  34197300"
            ]
          },
          "metadata": {
            "tags": []
          },
          "execution_count": 10
        }
      ]
    },
    {
      "cell_type": "code",
      "metadata": {
        "colab": {
          "base_uri": "https://localhost:8080/",
          "height": 191
        },
        "id": "hFVFr_xdtOBi",
        "outputId": "ea29020e-fba8-48db-d64c-5c7ae5d56bc6"
      },
      "source": [
        "df.tail()"
      ],
      "execution_count": 11,
      "outputs": [
        {
          "output_type": "execute_result",
          "data": {
            "text/html": [
              "<div>\n",
              "<style scoped>\n",
              "    .dataframe tbody tr th:only-of-type {\n",
              "        vertical-align: middle;\n",
              "    }\n",
              "\n",
              "    .dataframe tbody tr th {\n",
              "        vertical-align: top;\n",
              "    }\n",
              "\n",
              "    .dataframe thead th {\n",
              "        text-align: right;\n",
              "    }\n",
              "</style>\n",
              "<table border=\"1\" class=\"dataframe\">\n",
              "  <thead>\n",
              "    <tr style=\"text-align: right;\">\n",
              "      <th></th>\n",
              "      <th>Date</th>\n",
              "      <th>Open</th>\n",
              "      <th>High</th>\n",
              "      <th>Low</th>\n",
              "      <th>Close</th>\n",
              "      <th>Adj Close</th>\n",
              "      <th>Volume</th>\n",
              "    </tr>\n",
              "  </thead>\n",
              "  <tbody>\n",
              "    <tr>\n",
              "      <th>8</th>\n",
              "      <td>2020-11-01</td>\n",
              "      <td>9.31</td>\n",
              "      <td>16.799999</td>\n",
              "      <td>9.31</td>\n",
              "      <td>14.71</td>\n",
              "      <td>14.71</td>\n",
              "      <td>112523800</td>\n",
              "    </tr>\n",
              "    <tr>\n",
              "      <th>9</th>\n",
              "      <td>2020-12-01</td>\n",
              "      <td>15.01</td>\n",
              "      <td>18.480000</td>\n",
              "      <td>12.35</td>\n",
              "      <td>12.65</td>\n",
              "      <td>12.65</td>\n",
              "      <td>107236200</td>\n",
              "    </tr>\n",
              "    <tr>\n",
              "      <th>10</th>\n",
              "      <td>2021-01-01</td>\n",
              "      <td>12.65</td>\n",
              "      <td>14.800000</td>\n",
              "      <td>11.55</td>\n",
              "      <td>12.66</td>\n",
              "      <td>12.66</td>\n",
              "      <td>56687800</td>\n",
              "    </tr>\n",
              "    <tr>\n",
              "      <th>11</th>\n",
              "      <td>2021-02-01</td>\n",
              "      <td>12.89</td>\n",
              "      <td>14.240000</td>\n",
              "      <td>12.34</td>\n",
              "      <td>12.51</td>\n",
              "      <td>12.51</td>\n",
              "      <td>13280500</td>\n",
              "    </tr>\n",
              "    <tr>\n",
              "      <th>12</th>\n",
              "      <td>2021-02-18</td>\n",
              "      <td>12.60</td>\n",
              "      <td>12.610000</td>\n",
              "      <td>12.00</td>\n",
              "      <td>12.10</td>\n",
              "      <td>12.10</td>\n",
              "      <td>708300</td>\n",
              "    </tr>\n",
              "  </tbody>\n",
              "</table>\n",
              "</div>"
            ],
            "text/plain": [
              "          Date   Open       High    Low  Close  Adj Close     Volume\n",
              "8   2020-11-01   9.31  16.799999   9.31  14.71      14.71  112523800\n",
              "9   2020-12-01  15.01  18.480000  12.35  12.65      12.65  107236200\n",
              "10  2021-01-01  12.65  14.800000  11.55  12.66      12.66   56687800\n",
              "11  2021-02-01  12.89  14.240000  12.34  12.51      12.51   13280500\n",
              "12  2021-02-18  12.60  12.610000  12.00  12.10      12.10     708300"
            ]
          },
          "metadata": {
            "tags": []
          },
          "execution_count": 11
        }
      ]
    },
    {
      "cell_type": "code",
      "metadata": {
        "colab": {
          "base_uri": "https://localhost:8080/"
        },
        "id": "W5CBkAR8tfTC",
        "outputId": "cbc9186b-abce-4718-fba0-21755d4861d8"
      },
      "source": [
        "df.info()"
      ],
      "execution_count": 14,
      "outputs": [
        {
          "output_type": "stream",
          "text": [
            "<class 'pandas.core.frame.DataFrame'>\n",
            "RangeIndex: 13 entries, 0 to 12\n",
            "Data columns (total 7 columns):\n",
            " #   Column     Non-Null Count  Dtype  \n",
            "---  ------     --------------  -----  \n",
            " 0   Date       13 non-null     object \n",
            " 1   Open       13 non-null     float64\n",
            " 2   High       13 non-null     float64\n",
            " 3   Low        13 non-null     float64\n",
            " 4   Close      13 non-null     float64\n",
            " 5   Adj Close  13 non-null     float64\n",
            " 6   Volume     13 non-null     int64  \n",
            "dtypes: float64(5), int64(1), object(1)\n",
            "memory usage: 856.0+ bytes\n"
          ],
          "name": "stdout"
        }
      ]
    },
    {
      "cell_type": "code",
      "metadata": {
        "colab": {
          "base_uri": "https://localhost:8080/"
        },
        "id": "r7of6jAOt13B",
        "outputId": "e6d75d57-6189-4c78-ad2f-605b1fb21cb9"
      },
      "source": [
        "# ver os nomes das colunas\r\n",
        "df.columns"
      ],
      "execution_count": 17,
      "outputs": [
        {
          "output_type": "execute_result",
          "data": {
            "text/plain": [
              "Index(['Date', 'Open', 'High', 'Low', 'Close', 'Adj Close', 'Volume'], dtype='object')"
            ]
          },
          "metadata": {
            "tags": []
          },
          "execution_count": 17
        }
      ]
    },
    {
      "cell_type": "code",
      "metadata": {
        "colab": {
          "base_uri": "https://localhost:8080/"
        },
        "id": "GDKBqKbmuDQQ",
        "outputId": "d05dfbca-91b4-4627-9cba-58c0a0f5a185"
      },
      "source": [
        "# ver os valores\r\n",
        "df.values"
      ],
      "execution_count": 18,
      "outputs": [
        {
          "output_type": "execute_result",
          "data": {
            "text/plain": [
              "array([['2020-03-01', 4.75405, 5.804255, 2.39109, 2.400467, 2.400467,\n",
              "        14142943],\n",
              "       ['2020-04-01', 2.2973220000000003, 2.98183, 2.1191619999999998,\n",
              "        2.625511, 2.625511, 12029861],\n",
              "       ['2020-05-01', 2.625511, 2.85, 2.38, 2.65, 2.65, 5608263],\n",
              "       ['2020-06-01', 2.67, 3.99, 2.67, 3.58, 3.58, 20842500],\n",
              "       ['2020-07-01', 3.61, 5.97, 3.55, 4.83, 4.83, 34197300],\n",
              "       ['2020-08-01', 4.89, 5.34, 4.36, 4.62, 4.62, 15372900],\n",
              "       ['2020-09-01', 4.64, 6.63, 4.62, 5.94, 5.94, 33594600],\n",
              "       ['2020-10-01', 5.98, 11.39, 5.89, 9.31, 9.31, 71847600],\n",
              "       ['2020-11-01', 9.31, 16.799999, 9.31, 14.71, 14.71, 112523800],\n",
              "       ['2020-12-01', 15.01, 18.48, 12.35, 12.65, 12.65, 107236200],\n",
              "       ['2021-01-01', 12.65, 14.8, 11.55, 12.66, 12.66, 56687800],\n",
              "       ['2021-02-01', 12.89, 14.24, 12.34, 12.51, 12.51, 13280500],\n",
              "       ['2021-02-18', 12.6, 12.61, 12.0, 12.1, 12.1, 708300]],\n",
              "      dtype=object)"
            ]
          },
          "metadata": {
            "tags": []
          },
          "execution_count": 18
        }
      ]
    },
    {
      "cell_type": "code",
      "metadata": {
        "colab": {
          "base_uri": "https://localhost:8080/"
        },
        "id": "juBmK8puuKdt",
        "outputId": "365d4df5-c069-4798-87ab-44ab49891d77"
      },
      "source": [
        "# conhecendo os tipos de variaveis\r\n",
        "df.dtypes"
      ],
      "execution_count": 19,
      "outputs": [
        {
          "output_type": "execute_result",
          "data": {
            "text/plain": [
              "Date          object\n",
              "Open         float64\n",
              "High         float64\n",
              "Low          float64\n",
              "Close        float64\n",
              "Adj Close    float64\n",
              "Volume         int64\n",
              "dtype: object"
            ]
          },
          "metadata": {
            "tags": []
          },
          "execution_count": 19
        }
      ]
    },
    {
      "cell_type": "markdown",
      "metadata": {
        "id": "psH1LYtouYNC"
      },
      "source": [
        "## Como selecionar colunas\r\n",
        "\r\n",
        "Podemos apresentar as informações de uma ou mais colunas"
      ]
    },
    {
      "cell_type": "code",
      "metadata": {
        "colab": {
          "base_uri": "https://localhost:8080/",
          "height": 421
        },
        "id": "Lt2-Bq7PuU8y",
        "outputId": "fafbe961-d279-4497-feef-103899730a27"
      },
      "source": [
        "df[['Date','Open']]"
      ],
      "execution_count": 24,
      "outputs": [
        {
          "output_type": "execute_result",
          "data": {
            "text/html": [
              "<div>\n",
              "<style scoped>\n",
              "    .dataframe tbody tr th:only-of-type {\n",
              "        vertical-align: middle;\n",
              "    }\n",
              "\n",
              "    .dataframe tbody tr th {\n",
              "        vertical-align: top;\n",
              "    }\n",
              "\n",
              "    .dataframe thead th {\n",
              "        text-align: right;\n",
              "    }\n",
              "</style>\n",
              "<table border=\"1\" class=\"dataframe\">\n",
              "  <thead>\n",
              "    <tr style=\"text-align: right;\">\n",
              "      <th></th>\n",
              "      <th>Date</th>\n",
              "      <th>Open</th>\n",
              "    </tr>\n",
              "  </thead>\n",
              "  <tbody>\n",
              "    <tr>\n",
              "      <th>0</th>\n",
              "      <td>2020-03-01</td>\n",
              "      <td>4.754050</td>\n",
              "    </tr>\n",
              "    <tr>\n",
              "      <th>1</th>\n",
              "      <td>2020-04-01</td>\n",
              "      <td>2.297322</td>\n",
              "    </tr>\n",
              "    <tr>\n",
              "      <th>2</th>\n",
              "      <td>2020-05-01</td>\n",
              "      <td>2.625511</td>\n",
              "    </tr>\n",
              "    <tr>\n",
              "      <th>3</th>\n",
              "      <td>2020-06-01</td>\n",
              "      <td>2.670000</td>\n",
              "    </tr>\n",
              "    <tr>\n",
              "      <th>4</th>\n",
              "      <td>2020-07-01</td>\n",
              "      <td>3.610000</td>\n",
              "    </tr>\n",
              "    <tr>\n",
              "      <th>5</th>\n",
              "      <td>2020-08-01</td>\n",
              "      <td>4.890000</td>\n",
              "    </tr>\n",
              "    <tr>\n",
              "      <th>6</th>\n",
              "      <td>2020-09-01</td>\n",
              "      <td>4.640000</td>\n",
              "    </tr>\n",
              "    <tr>\n",
              "      <th>7</th>\n",
              "      <td>2020-10-01</td>\n",
              "      <td>5.980000</td>\n",
              "    </tr>\n",
              "    <tr>\n",
              "      <th>8</th>\n",
              "      <td>2020-11-01</td>\n",
              "      <td>9.310000</td>\n",
              "    </tr>\n",
              "    <tr>\n",
              "      <th>9</th>\n",
              "      <td>2020-12-01</td>\n",
              "      <td>15.010000</td>\n",
              "    </tr>\n",
              "    <tr>\n",
              "      <th>10</th>\n",
              "      <td>2021-01-01</td>\n",
              "      <td>12.650000</td>\n",
              "    </tr>\n",
              "    <tr>\n",
              "      <th>11</th>\n",
              "      <td>2021-02-01</td>\n",
              "      <td>12.890000</td>\n",
              "    </tr>\n",
              "    <tr>\n",
              "      <th>12</th>\n",
              "      <td>2021-02-18</td>\n",
              "      <td>12.600000</td>\n",
              "    </tr>\n",
              "  </tbody>\n",
              "</table>\n",
              "</div>"
            ],
            "text/plain": [
              "          Date       Open\n",
              "0   2020-03-01   4.754050\n",
              "1   2020-04-01   2.297322\n",
              "2   2020-05-01   2.625511\n",
              "3   2020-06-01   2.670000\n",
              "4   2020-07-01   3.610000\n",
              "5   2020-08-01   4.890000\n",
              "6   2020-09-01   4.640000\n",
              "7   2020-10-01   5.980000\n",
              "8   2020-11-01   9.310000\n",
              "9   2020-12-01  15.010000\n",
              "10  2021-01-01  12.650000\n",
              "11  2021-02-01  12.890000\n",
              "12  2021-02-18  12.600000"
            ]
          },
          "metadata": {
            "tags": []
          },
          "execution_count": 24
        }
      ]
    },
    {
      "cell_type": "markdown",
      "metadata": {
        "id": "RsTGjIrjvAOD"
      },
      "source": [
        "## Como realizar calculos \r\n",
        "Calcular médias, valores maximos, minimos etc\r\n",
        "\r\n",
        "De forma rápida podemos utilizar \r\n",
        "\r\n",
        "\r\n",
        "```\r\n",
        "# df.describe()\r\n",
        "```\r\n",
        "\r\n",
        "e individualmente para cada coluna\r\n",
        "\r\n",
        "\r\n",
        "\r\n",
        "```\r\n",
        "# df['nome_campo'].comando\r\n",
        "```\r\n",
        "\r\n"
      ]
    },
    {
      "cell_type": "code",
      "metadata": {
        "colab": {
          "base_uri": "https://localhost:8080/",
          "height": 277
        },
        "id": "l6F0KSiwvJWh",
        "outputId": "a492e7ad-2367-4973-ca99-471dce89d7bc"
      },
      "source": [
        "df.describe()"
      ],
      "execution_count": 25,
      "outputs": [
        {
          "output_type": "execute_result",
          "data": {
            "text/html": [
              "<div>\n",
              "<style scoped>\n",
              "    .dataframe tbody tr th:only-of-type {\n",
              "        vertical-align: middle;\n",
              "    }\n",
              "\n",
              "    .dataframe tbody tr th {\n",
              "        vertical-align: top;\n",
              "    }\n",
              "\n",
              "    .dataframe thead th {\n",
              "        text-align: right;\n",
              "    }\n",
              "</style>\n",
              "<table border=\"1\" class=\"dataframe\">\n",
              "  <thead>\n",
              "    <tr style=\"text-align: right;\">\n",
              "      <th></th>\n",
              "      <th>Open</th>\n",
              "      <th>High</th>\n",
              "      <th>Low</th>\n",
              "      <th>Close</th>\n",
              "      <th>Adj Close</th>\n",
              "      <th>Volume</th>\n",
              "    </tr>\n",
              "  </thead>\n",
              "  <tbody>\n",
              "    <tr>\n",
              "      <th>count</th>\n",
              "      <td>13.000000</td>\n",
              "      <td>13.000000</td>\n",
              "      <td>13.000000</td>\n",
              "      <td>13.000000</td>\n",
              "      <td>13.000000</td>\n",
              "      <td>1.300000e+01</td>\n",
              "    </tr>\n",
              "    <tr>\n",
              "      <th>mean</th>\n",
              "      <td>7.225145</td>\n",
              "      <td>9.375853</td>\n",
              "      <td>6.579250</td>\n",
              "      <td>7.737383</td>\n",
              "      <td>7.737383</td>\n",
              "      <td>3.831327e+07</td>\n",
              "    </tr>\n",
              "    <tr>\n",
              "      <th>std</th>\n",
              "      <td>4.604441</td>\n",
              "      <td>5.524664</td>\n",
              "      <td>4.250508</td>\n",
              "      <td>4.658751</td>\n",
              "      <td>4.658751</td>\n",
              "      <td>3.761190e+07</td>\n",
              "    </tr>\n",
              "    <tr>\n",
              "      <th>min</th>\n",
              "      <td>2.297322</td>\n",
              "      <td>2.850000</td>\n",
              "      <td>2.119162</td>\n",
              "      <td>2.400467</td>\n",
              "      <td>2.400467</td>\n",
              "      <td>7.083000e+05</td>\n",
              "    </tr>\n",
              "    <tr>\n",
              "      <th>25%</th>\n",
              "      <td>3.610000</td>\n",
              "      <td>5.340000</td>\n",
              "      <td>2.670000</td>\n",
              "      <td>3.580000</td>\n",
              "      <td>3.580000</td>\n",
              "      <td>1.328050e+07</td>\n",
              "    </tr>\n",
              "    <tr>\n",
              "      <th>50%</th>\n",
              "      <td>4.890000</td>\n",
              "      <td>6.630000</td>\n",
              "      <td>4.620000</td>\n",
              "      <td>5.940000</td>\n",
              "      <td>5.940000</td>\n",
              "      <td>2.084250e+07</td>\n",
              "    </tr>\n",
              "    <tr>\n",
              "      <th>75%</th>\n",
              "      <td>12.600000</td>\n",
              "      <td>14.240000</td>\n",
              "      <td>11.550000</td>\n",
              "      <td>12.510000</td>\n",
              "      <td>12.510000</td>\n",
              "      <td>5.668780e+07</td>\n",
              "    </tr>\n",
              "    <tr>\n",
              "      <th>max</th>\n",
              "      <td>15.010000</td>\n",
              "      <td>18.480000</td>\n",
              "      <td>12.350000</td>\n",
              "      <td>14.710000</td>\n",
              "      <td>14.710000</td>\n",
              "      <td>1.125238e+08</td>\n",
              "    </tr>\n",
              "  </tbody>\n",
              "</table>\n",
              "</div>"
            ],
            "text/plain": [
              "            Open       High        Low      Close  Adj Close        Volume\n",
              "count  13.000000  13.000000  13.000000  13.000000  13.000000  1.300000e+01\n",
              "mean    7.225145   9.375853   6.579250   7.737383   7.737383  3.831327e+07\n",
              "std     4.604441   5.524664   4.250508   4.658751   4.658751  3.761190e+07\n",
              "min     2.297322   2.850000   2.119162   2.400467   2.400467  7.083000e+05\n",
              "25%     3.610000   5.340000   2.670000   3.580000   3.580000  1.328050e+07\n",
              "50%     4.890000   6.630000   4.620000   5.940000   5.940000  2.084250e+07\n",
              "75%    12.600000  14.240000  11.550000  12.510000  12.510000  5.668780e+07\n",
              "max    15.010000  18.480000  12.350000  14.710000  14.710000  1.125238e+08"
            ]
          },
          "metadata": {
            "tags": []
          },
          "execution_count": 25
        }
      ]
    },
    {
      "cell_type": "code",
      "metadata": {
        "colab": {
          "base_uri": "https://localhost:8080/"
        },
        "id": "zuqMgsUavb4N",
        "outputId": "6eca81e1-75b2-4b0c-ec67-444464a7285d"
      },
      "source": [
        "# calculando media\r\n",
        "df['Open'].mean()"
      ],
      "execution_count": 28,
      "outputs": [
        {
          "output_type": "execute_result",
          "data": {
            "text/plain": [
              "7.225144846153845"
            ]
          },
          "metadata": {
            "tags": []
          },
          "execution_count": 28
        }
      ]
    },
    {
      "cell_type": "code",
      "metadata": {
        "colab": {
          "base_uri": "https://localhost:8080/"
        },
        "id": "f91-S1fEv7iF",
        "outputId": "85ead593-f784-4bde-8604-4d34621041f9"
      },
      "source": [
        "df['Open'].count()"
      ],
      "execution_count": 29,
      "outputs": [
        {
          "output_type": "execute_result",
          "data": {
            "text/plain": [
              "13"
            ]
          },
          "metadata": {
            "tags": []
          },
          "execution_count": 29
        }
      ]
    },
    {
      "cell_type": "code",
      "metadata": {
        "colab": {
          "base_uri": "https://localhost:8080/"
        },
        "id": "zyPcIG32wCb8",
        "outputId": "03217f0e-7631-4399-e3fd-a935d510bb42"
      },
      "source": [
        "df['Open'].std()"
      ],
      "execution_count": 31,
      "outputs": [
        {
          "output_type": "execute_result",
          "data": {
            "text/plain": [
              "4.604441272316687"
            ]
          },
          "metadata": {
            "tags": []
          },
          "execution_count": 31
        }
      ]
    },
    {
      "cell_type": "code",
      "metadata": {
        "colab": {
          "base_uri": "https://localhost:8080/"
        },
        "id": "j987ZTFAwLpv",
        "outputId": "73841a4d-244b-4188-ce07-4b36f9492d97"
      },
      "source": [
        "df['Open'].min()"
      ],
      "execution_count": 32,
      "outputs": [
        {
          "output_type": "execute_result",
          "data": {
            "text/plain": [
              "2.2973220000000003"
            ]
          },
          "metadata": {
            "tags": []
          },
          "execution_count": 32
        }
      ]
    },
    {
      "cell_type": "code",
      "metadata": {
        "colab": {
          "base_uri": "https://localhost:8080/"
        },
        "id": "CRbegICrwP-V",
        "outputId": "35bb0d02-358a-43db-e748-9b51022dd903"
      },
      "source": [
        "df['Open'].max()"
      ],
      "execution_count": 33,
      "outputs": [
        {
          "output_type": "execute_result",
          "data": {
            "text/plain": [
              "15.01"
            ]
          },
          "metadata": {
            "tags": []
          },
          "execution_count": 33
        }
      ]
    },
    {
      "cell_type": "markdown",
      "metadata": {
        "id": "o5H2F7YXwZoY"
      },
      "source": [
        "# Datas\r\n",
        "\r\n",
        "Trabalhar com datas é um capitulo a parte, pandas possui uma ampla documentação [pandas.datetime](https://pandas.pydata.org/docs/reference/api/pandas.to_datetime.html?highlight=to_datetime#pandas.to_datetime)\r\n",
        "\r\n",
        "Vejamos algumas situações."
      ]
    },
    {
      "cell_type": "code",
      "metadata": {
        "colab": {
          "base_uri": "https://localhost:8080/"
        },
        "id": "QgzUFOR9xIA5",
        "outputId": "7e8a359b-e688-4895-e914-f8e4c0686fdb"
      },
      "source": [
        "# Analisando o campo data\r\n",
        "df.Date"
      ],
      "execution_count": 34,
      "outputs": [
        {
          "output_type": "execute_result",
          "data": {
            "text/plain": [
              "0     2020-03-01\n",
              "1     2020-04-01\n",
              "2     2020-05-01\n",
              "3     2020-06-01\n",
              "4     2020-07-01\n",
              "5     2020-08-01\n",
              "6     2020-09-01\n",
              "7     2020-10-01\n",
              "8     2020-11-01\n",
              "9     2020-12-01\n",
              "10    2021-01-01\n",
              "11    2021-02-01\n",
              "12    2021-02-18\n",
              "Name: Date, dtype: object"
            ]
          },
          "metadata": {
            "tags": []
          },
          "execution_count": 34
        }
      ]
    },
    {
      "cell_type": "markdown",
      "metadata": {
        "id": "q8D9S1X_xP7Z"
      },
      "source": [
        "**O campo data em nosso dataset esta como objeto**, desta forma não temos como trabalhar com este campo, vamos converte-lo para o tipo **date**, veja na documentação que existem diversos [formatos](https://docs.python.org/3/library/datetime.html#strftime-and-strptime-behavior)"
      ]
    },
    {
      "cell_type": "code",
      "metadata": {
        "id": "Lojs1oRGxd40"
      },
      "source": [
        "df.Date = pd.to_datetime(df.Date, format=\"%Y-%m-%d\")"
      ],
      "execution_count": 35,
      "outputs": []
    },
    {
      "cell_type": "code",
      "metadata": {
        "colab": {
          "base_uri": "https://localhost:8080/"
        },
        "id": "U7PravrPxpDo",
        "outputId": "5a690aeb-4490-478d-dca8-cbc05a405638"
      },
      "source": [
        "# Apos a conversão\r\n",
        "df.Date"
      ],
      "execution_count": 36,
      "outputs": [
        {
          "output_type": "execute_result",
          "data": {
            "text/plain": [
              "0    2020-03-01\n",
              "1    2020-04-01\n",
              "2    2020-05-01\n",
              "3    2020-06-01\n",
              "4    2020-07-01\n",
              "5    2020-08-01\n",
              "6    2020-09-01\n",
              "7    2020-10-01\n",
              "8    2020-11-01\n",
              "9    2020-12-01\n",
              "10   2021-01-01\n",
              "11   2021-02-01\n",
              "12   2021-02-18\n",
              "Name: Date, dtype: datetime64[ns]"
            ]
          },
          "metadata": {
            "tags": []
          },
          "execution_count": 36
        }
      ]
    },
    {
      "cell_type": "code",
      "metadata": {
        "colab": {
          "base_uri": "https://localhost:8080/"
        },
        "id": "RpG3VPRoxtlx",
        "outputId": "25ed5b76-ea76-4c34-d72a-7f2856ae81ad"
      },
      "source": [
        "# Selecionando ano\r\n",
        "df.Date.dt.year"
      ],
      "execution_count": 37,
      "outputs": [
        {
          "output_type": "execute_result",
          "data": {
            "text/plain": [
              "0     2020\n",
              "1     2020\n",
              "2     2020\n",
              "3     2020\n",
              "4     2020\n",
              "5     2020\n",
              "6     2020\n",
              "7     2020\n",
              "8     2020\n",
              "9     2020\n",
              "10    2021\n",
              "11    2021\n",
              "12    2021\n",
              "Name: Date, dtype: int64"
            ]
          },
          "metadata": {
            "tags": []
          },
          "execution_count": 37
        }
      ]
    },
    {
      "cell_type": "code",
      "metadata": {
        "colab": {
          "base_uri": "https://localhost:8080/"
        },
        "id": "JZ__7GkAyTX6",
        "outputId": "5655b4c9-744f-4f26-f2cf-18b2a3e22c8b"
      },
      "source": [
        "# Selecionando mês\r\n",
        "df.Date.dt.month"
      ],
      "execution_count": 38,
      "outputs": [
        {
          "output_type": "execute_result",
          "data": {
            "text/plain": [
              "0      3\n",
              "1      4\n",
              "2      5\n",
              "3      6\n",
              "4      7\n",
              "5      8\n",
              "6      9\n",
              "7     10\n",
              "8     11\n",
              "9     12\n",
              "10     1\n",
              "11     2\n",
              "12     2\n",
              "Name: Date, dtype: int64"
            ]
          },
          "metadata": {
            "tags": []
          },
          "execution_count": 38
        }
      ]
    },
    {
      "cell_type": "code",
      "metadata": {
        "colab": {
          "base_uri": "https://localhost:8080/"
        },
        "id": "pe5xDzsgyazi",
        "outputId": "60a23bc4-c934-49b5-f2f5-bc9f7405e4b1"
      },
      "source": [
        "# selecionando dia\r\n",
        "df.Date.dt.day"
      ],
      "execution_count": 39,
      "outputs": [
        {
          "output_type": "execute_result",
          "data": {
            "text/plain": [
              "0      1\n",
              "1      1\n",
              "2      1\n",
              "3      1\n",
              "4      1\n",
              "5      1\n",
              "6      1\n",
              "7      1\n",
              "8      1\n",
              "9      1\n",
              "10     1\n",
              "11     1\n",
              "12    18\n",
              "Name: Date, dtype: int64"
            ]
          },
          "metadata": {
            "tags": []
          },
          "execution_count": 39
        }
      ]
    },
    {
      "cell_type": "code",
      "metadata": {
        "colab": {
          "base_uri": "https://localhost:8080/",
          "height": 311
        },
        "id": "w8LzjgB1ygi-",
        "outputId": "f4856d94-6f36-4f86-ddf9-f1d8d05e044b"
      },
      "source": [
        "# Criando um histograma\r\n",
        "df.hist()\r\n",
        "; # artificio para não mostrar informações do array"
      ],
      "execution_count": 44,
      "outputs": [
        {
          "output_type": "execute_result",
          "data": {
            "application/vnd.google.colaboratory.intrinsic+json": {
              "type": "string"
            },
            "text/plain": [
              "'# artificio para não mostrar informações do array'"
            ]
          },
          "metadata": {
            "tags": []
          },
          "execution_count": 44
        },
        {
          "output_type": "display_data",
          "data": {
            "image/png": "[encoded data removed]",
            "text/plain": [
              "<Figure size 432x288 with 6 Axes>"
            ]
          },
          "metadata": {
            "tags": [],
            "needs_background": "light"
          }
        }
      ]
    }
  ]
}